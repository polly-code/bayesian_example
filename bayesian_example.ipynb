{
 "cells": [
  {
   "cell_type": "code",
   "execution_count": 13,
   "metadata": {},
   "outputs": [],
   "source": [
    "import numpy as np\n",
    "import matplotlib.pyplot as plt\n",
    "import pandas as pd"
   ]
  },
  {
   "cell_type": "markdown",
   "metadata": {},
   "source": [
    "## Original dataset"
   ]
  },
  {
   "cell_type": "code",
   "execution_count": 14,
   "metadata": {},
   "outputs": [],
   "source": [
    "df = pd.DataFrame(\n",
    "    {\n",
    "        \"time\": [0, 1, 2, 3, 4, 5, 6, 7, 8, 9, 10],\n",
    "        \"arriving_prob_if_was_transferred\": [\n",
    "            0,\n",
    "            0.1,\n",
    "            0.1,\n",
    "            0.1,\n",
    "            0.1,\n",
    "            0.1,\n",
    "            0.1,\n",
    "            0.1,\n",
    "            0.1,\n",
    "            0.1,\n",
    "            0.1,\n",
    "        ],\n",
    "        \"arriving_prob_if_was_not_transferred\": [0.0] * 11,\n",
    "    }\n",
    ")\n",
    "df"
   ]
  },
  {
   "cell_type": "markdown",
   "metadata": {},
   "source": [
    "## Restructure the dataset"
   ]
  },
  {
   "cell_type": "code",
   "execution_count": 16,
   "metadata": {},
   "outputs": [],
   "source": [
    "df = pd.DataFrame(\n",
    "    {\n",
    "        \"time\": [1, 2, 3, 4, 5, 6, 7, 8, 9, 10],\n",
    "        \"arriving_prob_if_was_transferred\": [\n",
    "            0.1,\n",
    "            0.2,\n",
    "            0.3,\n",
    "            0.4,\n",
    "            0.5,\n",
    "            0.6,\n",
    "            0.7,\n",
    "            0.8,\n",
    "            0.9,\n",
    "            1.0,\n",
    "        ],\n",
    "        \"arriving_prob_if_was_not_transferred\": [0.0] * 10,\n",
    "    }\n",
    ")"
   ]
  },
  {
   "cell_type": "markdown",
   "metadata": {},
   "source": [
    "## Adjust dataset for the explanation where t = 5 min"
   ]
  },
  {
   "cell_type": "code",
   "execution_count": 17,
   "metadata": {},
   "outputs": [
    {
     "name": "stderr",
     "output_type": "stream",
     "text": [
      "C:\\Users\\Pavel\\AppData\\Local\\Temp\\ipykernel_2240\\673261855.py:2: FutureWarning: Setting an item of incompatible dtype is deprecated and will raise in a future error of pandas. Value '['nan', 'nan', 'nan', 'nan', 'nan']' has dtype incompatible with float64, please explicitly cast to a compatible dtype first.\n",
      "  df_updated.loc[df_updated[\"time\"] < 6, \"arriving_prob_if_was_transferred\"] = [\"nan\"]*5\n"
     ]
    }
   ],
   "source": [
    "df_updated = df.copy()\n",
    "df_updated.loc[df_updated[\"time\"] < 6, \"arriving_prob_if_was_transferred\"] = [\"nan\"]*5\n",
    "df_updated.loc[df_updated[\"time\"] > 5, \"arriving_prob_if_was_transferred\"] = [0.2, 0.4, 0.6, 0.8, 1.0]\n",
    "df_updated"
   ]
  },
  {
   "cell_type": "markdown",
   "metadata": {},
   "source": [
    "## Adjust dataset for the explanation where t = 8 min"
   ]
  },
  {
   "cell_type": "code",
   "execution_count": 19,
   "metadata": {},
   "outputs": [
    {
     "name": "stderr",
     "output_type": "stream",
     "text": [
      "C:\\Users\\Pavel\\AppData\\Local\\Temp\\ipykernel_2240\\852612412.py:2: FutureWarning: Setting an item of incompatible dtype is deprecated and will raise in a future error of pandas. Value '['nan', 'nan', 'nan', 'nan', 'nan', 'nan', 'nan', 'nan']' has dtype incompatible with float64, please explicitly cast to a compatible dtype first.\n",
      "  df_updated2.loc[df_updated[\"time\"] < 9, \"arriving_prob_if_was_transferred\"] = [\"nan\"]*8\n"
     ]
    },
    {
     "data": {
      "text/html": [
       "<div>\n",
       "<style scoped>\n",
       "    .dataframe tbody tr th:only-of-type {\n",
       "        vertical-align: middle;\n",
       "    }\n",
       "\n",
       "    .dataframe tbody tr th {\n",
       "        vertical-align: top;\n",
       "    }\n",
       "\n",
       "    .dataframe thead th {\n",
       "        text-align: right;\n",
       "    }\n",
       "</style>\n",
       "<table border=\"1\" class=\"dataframe\">\n",
       "  <thead>\n",
       "    <tr style=\"text-align: right;\">\n",
       "      <th></th>\n",
       "      <th>time</th>\n",
       "      <th>arriving_prob_if_was_transferred</th>\n",
       "      <th>arriving_prob_if_was_not_transferred</th>\n",
       "    </tr>\n",
       "  </thead>\n",
       "  <tbody>\n",
       "    <tr>\n",
       "      <th>0</th>\n",
       "      <td>1</td>\n",
       "      <td>nan</td>\n",
       "      <td>0.0</td>\n",
       "    </tr>\n",
       "    <tr>\n",
       "      <th>1</th>\n",
       "      <td>2</td>\n",
       "      <td>nan</td>\n",
       "      <td>0.0</td>\n",
       "    </tr>\n",
       "    <tr>\n",
       "      <th>2</th>\n",
       "      <td>3</td>\n",
       "      <td>nan</td>\n",
       "      <td>0.0</td>\n",
       "    </tr>\n",
       "    <tr>\n",
       "      <th>3</th>\n",
       "      <td>4</td>\n",
       "      <td>nan</td>\n",
       "      <td>0.0</td>\n",
       "    </tr>\n",
       "    <tr>\n",
       "      <th>4</th>\n",
       "      <td>5</td>\n",
       "      <td>nan</td>\n",
       "      <td>0.0</td>\n",
       "    </tr>\n",
       "    <tr>\n",
       "      <th>5</th>\n",
       "      <td>6</td>\n",
       "      <td>nan</td>\n",
       "      <td>0.0</td>\n",
       "    </tr>\n",
       "    <tr>\n",
       "      <th>6</th>\n",
       "      <td>7</td>\n",
       "      <td>nan</td>\n",
       "      <td>0.0</td>\n",
       "    </tr>\n",
       "    <tr>\n",
       "      <th>7</th>\n",
       "      <td>8</td>\n",
       "      <td>nan</td>\n",
       "      <td>0.0</td>\n",
       "    </tr>\n",
       "    <tr>\n",
       "      <th>8</th>\n",
       "      <td>9</td>\n",
       "      <td>0.5</td>\n",
       "      <td>0.0</td>\n",
       "    </tr>\n",
       "    <tr>\n",
       "      <th>9</th>\n",
       "      <td>10</td>\n",
       "      <td>1.0</td>\n",
       "      <td>0.0</td>\n",
       "    </tr>\n",
       "  </tbody>\n",
       "</table>\n",
       "</div>"
      ],
      "text/plain": [
       "   time arriving_prob_if_was_transferred  arriving_prob_if_was_not_transferred\n",
       "0     1                              nan                                   0.0\n",
       "1     2                              nan                                   0.0\n",
       "2     3                              nan                                   0.0\n",
       "3     4                              nan                                   0.0\n",
       "4     5                              nan                                   0.0\n",
       "5     6                              nan                                   0.0\n",
       "6     7                              nan                                   0.0\n",
       "7     8                              nan                                   0.0\n",
       "8     9                              0.5                                   0.0\n",
       "9    10                              1.0                                   0.0"
      ]
     },
     "execution_count": 19,
     "metadata": {},
     "output_type": "execute_result"
    }
   ],
   "source": [
    "df_updated2 = df.copy()\n",
    "df_updated2.loc[df_updated[\"time\"] < 9, \"arriving_prob_if_was_transferred\"] = [\"nan\"]*8\n",
    "df_updated2.loc[df_updated[\"time\"] > 8, \"arriving_prob_if_was_transferred\"] = [0.5, 1.0]\n",
    "df_updated2"
   ]
  },
  {
   "cell_type": "markdown",
   "metadata": {},
   "source": [
    "## Plot the dependency of prob transferring the luggage on elapsed time"
   ]
  },
  {
   "cell_type": "code",
   "execution_count": 22,
   "metadata": {},
   "outputs": [
    {
     "data": {
      "image/png": "[encoded data removed]",
      "text/plain": [
       "<Figure size 700x500 with 1 Axes>"
      ]
     },
     "metadata": {},
     "output_type": "display_data"
    }
   ],
   "source": [
    "plt.figure(figsize=(7, 5))\n",
    "plt.plot(np.arange(10,-1, -1), (np.arange(11))/(np.arange(11)+10))\n",
    "plt.xlabel(\"Elapsed time, min\")\n",
    "plt.ylabel(\"Probability of transferring the luggage\")\n",
    "plt.title(\"Probability of transferring the luggage as a function of elapsed time\")\n",
    "plt.show()"
   ]
  },
  {
   "cell_type": "markdown",
   "metadata": {},
   "source": [
    "## Print the probabilities"
   ]
  },
  {
   "cell_type": "code",
   "execution_count": 27,
   "metadata": {},
   "outputs": [
    {
     "data": {
      "text/plain": [
       "array([0.5       , 0.47368421, 0.44444444, 0.41176471, 0.375     ,\n",
       "       0.33333333, 0.28571429, 0.23076923, 0.16666667, 0.09090909,\n",
       "       0.        ])"
      ]
     },
     "execution_count": 27,
     "metadata": {},
     "output_type": "execute_result"
    }
   ],
   "source": [
    "((np.arange(11))/(np.arange(11)+10))[::-1]"
   ]
  }
 ],
 "metadata": {
  "kernelspec": {
   "display_name": "Python 3",
   "language": "python",
   "name": "python3"
  },
  "language_info": {
   "codemirror_mode": {
    "name": "ipython",
    "version": 3
   },
   "file_extension": ".py",
   "mimetype": "text/x-python",
   "name": "python",
   "nbconvert_exporter": "python",
   "pygments_lexer": "ipython3",
   "version": "3.12.0"
  }
 },
 "nbformat": 4,
 "nbformat_minor": 2
}
